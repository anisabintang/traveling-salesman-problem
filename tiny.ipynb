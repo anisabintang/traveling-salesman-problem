{
 "cells": [
  {
   "cell_type": "code",
   "execution_count": 10,
   "metadata": {},
   "outputs": [],
   "source": [
    "import math\n",
    "from itertools import permutations\n",
    "import pandas as pd\n",
    "import os"
   ]
  },
  {
   "cell_type": "code",
   "execution_count": 3,
   "metadata": {},
   "outputs": [],
   "source": [
    "# Function to calculate the Euclidean distance between two cities\n",
    "def distance(city1, city2):\n",
    "    return math.sqrt((city1[0] - city2[0]) ** 2 + (city1[1] - city2[1]) ** 2)\n"
   ]
  },
  {
   "cell_type": "code",
   "execution_count": 4,
   "metadata": {},
   "outputs": [],
   "source": [
    "# Brute-force TSP for small datasets\n",
    "def tsp_bruteforce(cities):\n",
    "    n = len(cities)\n",
    "    all_permutations = permutations(range(n))\n",
    "    \n",
    "    min_path = None\n",
    "    min_distance = float('inf')\n",
    "    \n",
    "    # Loop through all possible permutations\n",
    "    for perm in all_permutations:\n",
    "        current_distance = 0\n",
    "        # Calculate the total distance for the current permutation\n",
    "        for i in range(n - 1):\n",
    "            current_distance += distance(cities[perm[i]], cities[perm[i + 1]])\n",
    "        # Add the distance from the last city back to the first city\n",
    "        current_distance += distance(cities[perm[-1]], cities[perm[0]])\n",
    "        \n",
    "        # If current path is shorter than the minimum distance found so far\n",
    "        if current_distance < min_distance:\n",
    "            min_distance = current_distance\n",
    "            min_path = perm\n",
    "    \n",
    "    return min_path, min_distance"
   ]
  },
  {
   "cell_type": "code",
   "execution_count": 11,
   "metadata": {},
   "outputs": [],
   "source": [
    "# Dynamically construct the file path\n",
    "current_directory = os.getcwd()  # Get the current working directory\n",
    "file_name = \"tiny.csv\"  # Assuming your file is in the same directory\n",
    "file_path = os.path.join(current_directory, file_name) "
   ]
  },
  {
   "cell_type": "code",
   "execution_count": 13,
   "metadata": {},
   "outputs": [],
   "source": [
    "# Load cities from the CSV file\n",
    "cities_df = pd.read_csv(file_path, header=None, names=['x', 'y'])"
   ]
  },
  {
   "cell_type": "code",
   "execution_count": 14,
   "metadata": {},
   "outputs": [],
   "source": [
    "# Convert the DataFrame to a list of tuples (x, y)\n",
    "cities = list(zip(cities_df['x'], cities_df['y']))\n",
    "\n",
    "# Solve TSP using brute-force for the tiny dataset\n",
    "optimal_path, optimal_distance = tsp_bruteforce(cities)"
   ]
  },
  {
   "cell_type": "code",
   "execution_count": 15,
   "metadata": {},
   "outputs": [
    {
     "name": "stdout",
     "output_type": "stream",
     "text": [
      "Optimal path (in terms of city indices): (6, 7, 2, 8, 5, 1, 4, 0, 3, 9)\n",
      "Optimal distance: 12.516978039789695\n"
     ]
    }
   ],
   "source": [
    "# Output the optimal path and the minimum distance\n",
    "print(\"Optimal path (in terms of city indices):\", optimal_path)\n",
    "print(\"Optimal distance:\", optimal_distance)"
   ]
  }
 ],
 "metadata": {
  "kernelspec": {
   "display_name": "Python 3",
   "language": "python",
   "name": "python3"
  },
  "language_info": {
   "codemirror_mode": {
    "name": "ipython",
    "version": 3
   },
   "file_extension": ".py",
   "mimetype": "text/x-python",
   "name": "python",
   "nbconvert_exporter": "python",
   "pygments_lexer": "ipython3",
   "version": "3.12.3"
  }
 },
 "nbformat": 4,
 "nbformat_minor": 2
}
